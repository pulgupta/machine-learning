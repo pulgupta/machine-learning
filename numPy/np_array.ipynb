{
 "cells": [
  {
   "cell_type": "code",
   "execution_count": 10,
   "metadata": {},
   "outputs": [
    {
     "name": "stdout",
     "output_type": "stream",
     "text": [
      "[[10 20 30 40]\n",
      " [11 12 13 14]]\n",
      "int64\n",
      "8\n",
      "(2, 4)\n"
     ]
    },
    {
     "data": {
      "text/plain": [
       "array([[11, 21, 31, 41],\n",
       "       [12, 13, 14, 15]])"
      ]
     },
     "execution_count": 10,
     "metadata": {},
     "output_type": "execute_result"
    }
   ],
   "source": [
    "import numpy as np\n",
    "\n",
    "sales = [[10,20,30,40],[11,12,13,14]] # must be of equal length\n",
    "sales_np_array = np.array(sales)\n",
    "\n",
    "print(sales_np_array)\n",
    "print(sales_np_array.dtype)\n",
    "print(sales_np_array.size) # total number of elements in all the dimentions\n",
    "print(sales_np_array.shape) # the structure of the array\n",
    "\n",
    "sales_np_array + 1"
   ]
  },
  {
   "cell_type": "code",
   "execution_count": 12,
   "metadata": {},
   "outputs": [
    {
     "data": {
      "text/plain": [
       "array([0.22733602, 0.31675834, 0.79736546, 0.67625467, 0.39110955,\n",
       "       0.33281393, 0.59830875, 0.18673419, 0.67275604, 0.94180287])"
      ]
     },
     "execution_count": 12,
     "metadata": {},
     "output_type": "execute_result"
    }
   ],
   "source": [
    "from numpy.random import default_rng\n",
    "\n",
    "rng = default_rng(12345)\n",
    "arr = rng.random(10)\n",
    "\n",
    "arr"
   ]
  },
  {
   "cell_type": "code",
   "execution_count": 18,
   "metadata": {},
   "outputs": [
    {
     "name": "stdout",
     "output_type": "stream",
     "text": [
      "[[70 23 79 32 21 79 64 67 98 39]\n",
      " [84 33 57 60 22 19 23 67 61 94]\n",
      " [70 25 91 94 73 67 13 10 27 44]\n",
      " [ 8 88 47 70 22 33 12 73 77 22]\n",
      " [71  9 39 16 74 34 47 47 48 27]\n",
      " [56 81 50 20  3 13  9 10 13 60]\n",
      " [80 85 65 60 33 93 64 72 73 86]\n",
      " [70 93 54 55 25 93 55 50 32 28]\n",
      " [63 45 57 66 90 33 68 90 46 26]\n",
      " [29 34 63 26 84 36  7  1  3 63]]\n"
     ]
    }
   ],
   "source": [
    "from numpy.random import default_rng\n",
    "\n",
    "rng = default_rng(12345)\n",
    "random_ages = rng.integers(1,100,100).reshape(10,10)\n",
    "print(random_ages)"
   ]
  }
 ],
 "metadata": {
  "kernelspec": {
   "display_name": "Python 3",
   "language": "python",
   "name": "python3"
  },
  "language_info": {
   "codemirror_mode": {
    "name": "ipython",
    "version": 3
   },
   "file_extension": ".py",
   "mimetype": "text/x-python",
   "name": "python",
   "nbconvert_exporter": "python",
   "pygments_lexer": "ipython3",
   "version": "3.10.0"
  }
 },
 "nbformat": 4,
 "nbformat_minor": 2
}
